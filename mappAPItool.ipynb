{
 "cells": [
  {
   "cell_type": "code",
   "execution_count": 1,
   "metadata": {},
   "outputs": [],
   "source": [
    "import numpy as np\n",
    "import pandas as pd\n",
    "import time\n",
    "import base64\n",
    "import os\n",
    "import requests\n",
    "from PIL import Image\n",
    "from io import BytesIO\n",
    "import urllib\n",
    "import datetime as dt\n",
    "\n",
    "def BinaryfileTObase64URL(Binaryfilepath):\n",
    "    f=open(Binaryfilepath, 'rb')\n",
    "    encodestr = base64.b64encode(f.read()) \n",
    "    urlbg_file = urllib.parse.quote_plus(encodestr)\n",
    "    return urlbg_file\n",
    "def imgurlTObase64URL(imgurl):\n",
    "    img_re = requests.get(imgurl)\n",
    "    #image = Image.open(BytesIO(img_re.content)) \n",
    "    ls_f=base64.b64encode(BytesIO(img_re.content).read())\n",
    "    img_base64url = urllib.parse.quote_plus(ls_f)#轉URL\n",
    "    return img_base64url\n",
    "def mapppost_content(useraccount,apikey,chatsn,content):\n",
    "    content_utf8 = content.encode(\"UTF-8\")#轉UTF8\n",
    "    content_utf8_url = urllib.parse.quote_plus(content_utf8)#轉URL\n",
    "    url = \"http://mapp.local/teamplus_innolux/API/IMService.ashx\"\n",
    "    payload = \"ask=sendChatMessage&account={}&api_Key={}&chat_sn={}&content_type=1&msg_content={}&file_show_name=&undefined=\".format(useraccount,apikey,chatsn,content_utf8_url)\n",
    "    headers = {\n",
    "        'Content-Type': \"application/x-www-form-urlencoded\",\n",
    "        'cache-control': \"no-cache\",\n",
    "        }\n",
    "    response = requests.request(\"POST\", url, data=payload, headers=headers)\n",
    "    print(response.text)\n",
    "def mapppost_Binaryfile(useraccount,apikey,chatsn,file_base64url,filetype,outputfilename):   \n",
    "    #上傳檔案\n",
    "    url = \"http://mapp.local/teamplus_innolux/API/IMService.ashx\"\n",
    "    payload = \"ask=uploadFile&account={}&api_Key={}&file_type={}&data_binary={}\".format(useraccount,apikey,filetype,file_base64url)\n",
    "    headers = {\n",
    "        'Content-Type': \"application/x-www-form-urlencoded\",\n",
    "        'cache-control': \"no-cache\",\n",
    "        }\n",
    "    response = requests.request(\"POST\", url, data=payload, headers=headers)\n",
    "    print(response.text)\n",
    "    #輸出字串處理\n",
    "    s=response.text.split(':')\n",
    "    ss=s[1].split(',')\n",
    "    x=eval(ss[0])\n",
    "    \n",
    "    #mappapi聊天室推送檔案\n",
    "    url = \"http://mapp.local/teamplus_innolux/API/IMService.ashx\"\n",
    "    payload = \"ask=sendChatMessage&account={}&api_Key={}&chat_sn={}&content_type=2&msg_content={}&file_show_name={}\".format(useraccount,apikey,chatsn,x,outputfilename)\n",
    "    headers = {\n",
    "        'Content-Type': \"application/x-www-form-urlencoded\",\n",
    "        'cache-control': \"no-cache\",\n",
    "        }\n",
    "    response = requests.request(\"POST\", url, data=payload, headers=headers)\n",
    "    print(response.text)"
   ]
  },
  {
   "cell_type": "code",
   "execution_count": 6,
   "metadata": {},
   "outputs": [
    {
     "name": "stdout",
     "output_type": "stream",
     "text": [
      "{\"FileName\":\"4081e18f-0e2a-4619-adfe-bdfd97b77432.jpg\",\"ErrorCode\":0,\"IsSuccess\":true,\"Description\":\"Success\"}\n",
      "{\"BatchID\":\"55bf4c9a-d57b-4cfd-b65f-b91e38e368dc\",\"ErrorCode\":0,\"IsSuccess\":true,\"Description\":\"Success\"}\n"
     ]
    }
   ],
   "source": [
    "username='18029599'\n",
    "apikey='644A0AFD-A561-03EE-6286-7B9092F076E2'\n",
    "chatn='52750'\n",
    "file_base64url=BinaryfileTObase64URL(r'C:\\Users\\leon.hua\\Desktop\\testimg.jpg')\n",
    "filetype='jpg'\n",
    "out='test.jpg'\n",
    "mapppost_Binaryfile(username,apikey,chatn,file_base64url,filetype,out)"
   ]
  },
  {
   "cell_type": "code",
   "execution_count": null,
   "metadata": {},
   "outputs": [],
   "source": []
  }
 ],
 "metadata": {
  "kernelspec": {
   "display_name": "Python 3",
   "language": "python",
   "name": "python3"
  },
  "language_info": {
   "codemirror_mode": {
    "name": "ipython",
    "version": 3
   },
   "file_extension": ".py",
   "mimetype": "text/x-python",
   "name": "python",
   "nbconvert_exporter": "python",
   "pygments_lexer": "ipython3",
   "version": "3.8.3"
  }
 },
 "nbformat": 4,
 "nbformat_minor": 4
}
