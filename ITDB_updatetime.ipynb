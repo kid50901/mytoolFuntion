{
 "cells": [
  {
   "cell_type": "code",
   "execution_count": 1,
   "metadata": {},
   "outputs": [],
   "source": [
    "import pandas as pd\n",
    "import cx_Oracle\n",
    "import datetime as dt\n",
    "def update_chart_main_time(set_date,bechange):\n",
    "    con = cx_Oracle.connect('qis_cowk_tst/tqiscowktst@tvCOMB11gDB.cminl.oa:1521/tcomb11g') #建立連線\n",
    "    cur = con.cursor() #建立游標\n",
    "    rows = [(set_date,bechange)]\n",
    "    cur.executemany(\"UPDATE CHART_MAIN SET UPDATE_DATE =  to_date(:1,'yyyy/mm/dd') WHERE UPDATE_DATE = to_date(:5,'yyyy/mm/dd') \",rows)\n",
    "    con.commit()\n",
    "    con.close()"
   ]
  },
  {
   "cell_type": "code",
   "execution_count": 5,
   "metadata": {},
   "outputs": [],
   "source": [
    "update_chart_main_time('2021-05-24','2021-05-21')"
   ]
  },
  {
   "cell_type": "code",
   "execution_count": null,
   "metadata": {},
   "outputs": [],
   "source": []
  }
 ],
 "metadata": {
  "kernelspec": {
   "display_name": "Python 3",
   "language": "python",
   "name": "python3"
  },
  "language_info": {
   "codemirror_mode": {
    "name": "ipython",
    "version": 3
   },
   "file_extension": ".py",
   "mimetype": "text/x-python",
   "name": "python",
   "nbconvert_exporter": "python",
   "pygments_lexer": "ipython3",
   "version": "3.8.3"
  }
 },
 "nbformat": 4,
 "nbformat_minor": 4
}
