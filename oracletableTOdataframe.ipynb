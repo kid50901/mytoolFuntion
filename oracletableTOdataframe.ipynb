{
 "cells": [
  {
   "cell_type": "code",
   "execution_count": null,
   "metadata": {},
   "outputs": [],
   "source": [
    "import pandas as pd\n",
    "import cx_Oracle\n",
    "def totalTable(UserID,PassWord,Host,ServerPort,ServiceName,tablename):\n",
    "    #con = cx_Oracle.connect('qis_cowk_tst/tqiscowktst@tvCOMB11gDB.cminl.oa:1521/tcomb11g') #建立連線\n",
    "    con = cx_Oracle.connect('{}/{}@{}:{}/{}'.format(UserID,PassWord,Host,ServerPort,ServiceName)) #建立連線\n",
    "    cur = con.cursor() #建立游標\n",
    "    #execute(\"SELECT P1, P2, P3,P4,P5  FROM dataoba_myreport\" )\n",
    "    #cur.execute(\"SELECT * FROM QIS_GLOBALUAT_ADMIN.QA_DATAMART_NG_SYMPTOM\")\n",
    "    cur.execute(\"SELECT * FROM {}\".format(tablename))\n",
    "    columns_name = [des[0] for des in cur.description]###取欄位值\n",
    "    mytable = cur.fetchall()\n",
    "    con.close()\n",
    "    mytabledf =pd.DataFrame(list(mytable))\n",
    "    for i in range(len(columns_name)):\n",
    "        mytabledf=mytabledf.rename(columns={i:columns_name[i]})\n",
    "    return mytabledf"
   ]
  },
  {
   "cell_type": "code",
   "execution_count": null,
   "metadata": {},
   "outputs": [],
   "source": [
    "Host = 'tvCOMB11gDB.cminl.oa'\n",
    "ServerPort = '1521'\n",
    "UserID = 'qis_cowk_tst'\n",
    "PassWord = 'tqiscowktst'\n",
    "ServiceName = 'tcomb11g'\n",
    "tablename='QIS_GLOBALUAT_ADMIN.QA_DATAMART_NG_SOLUTION'\n",
    "totalTable(UserID,PassWord,Host,ServerPort,ServiceName,tablename).to_excel(r'D:\\MQ_DT_team\\其他資料區\\VLRR_NG_SOLUTION.xlsx',index=False)"
   ]
  }
 ],
 "metadata": {
  "kernelspec": {
   "display_name": "Python 3",
   "language": "python",
   "name": "python3"
  },
  "language_info": {
   "codemirror_mode": {
    "name": "ipython",
    "version": 3
   },
   "file_extension": ".py",
   "mimetype": "text/x-python",
   "name": "python",
   "nbconvert_exporter": "python",
   "pygments_lexer": "ipython3",
   "version": "3.8.3"
  }
 },
 "nbformat": 4,
 "nbformat_minor": 4
}
