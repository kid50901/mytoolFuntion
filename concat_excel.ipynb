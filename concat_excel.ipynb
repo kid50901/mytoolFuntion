{
 "cells": [
  {
   "cell_type": "code",
   "execution_count": 2,
   "metadata": {},
   "outputs": [],
   "source": [
    "import pandas as pd\n",
    "import os\n",
    "def concat_excelF(path):\n",
    "    VLRROBA_list=pd.DataFrame(columns=['A'])\n",
    "    for i in os.listdir(r\"{}\".format(path)):#組合所有excel\n",
    "        df=pd.read_excel(r\"{}\\{}\".format(path,i))\n",
    "        VLRROBA_list=pd.concat([df,VLRROBA_list],axis=0)\n",
    "    VLRROBA_list=VLRROBA_list.drop(['A'], axis=1)\n",
    "    return VLRROBA_list"
   ]
  }
 ],
 "metadata": {
  "kernelspec": {
   "display_name": "Python 3",
   "language": "python",
   "name": "python3"
  },
  "language_info": {
   "codemirror_mode": {
    "name": "ipython",
    "version": 3
   },
   "file_extension": ".py",
   "mimetype": "text/x-python",
   "name": "python",
   "nbconvert_exporter": "python",
   "pygments_lexer": "ipython3",
   "version": "3.8.3"
  }
 },
 "nbformat": 4,
 "nbformat_minor": 4
}
