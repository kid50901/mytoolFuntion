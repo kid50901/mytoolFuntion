{
 "cells": [
  {
   "cell_type": "code",
   "execution_count": null,
   "metadata": {},
   "outputs": [],
   "source": [
    "import pandas as pd\n",
    "def boomtable(suourstable,wantlist,wantboom,choosesplit):\n",
    "    initboom=((pd.concat([pd.Series( row[wantlist[0]], row[wantboom].split(choosesplit)) for _, row in suourstable.iterrows()]).reset_index()).rename(columns={\"index\":wantboom,0:wantlist[0]}))\n",
    "    for i in range(len(wantlist)-1):\n",
    "        addboom=((pd.concat([pd.Series( row[wantlist[i+1]], row[wantboom].split(choosesplit)) for _, row in suourstable.iterrows()]).reset_index()).rename(columns={0:wantlist[i+1]}))\n",
    "        initboom=pd.concat([initboom,addboom[wantlist[i+1]]],axis=1)\n",
    "    return initboom"
   ]
  }
 ],
 "metadata": {
  "kernelspec": {
   "display_name": "Python 3",
   "language": "python",
   "name": "python3"
  },
  "language_info": {
   "codemirror_mode": {
    "name": "ipython",
    "version": 3
   },
   "file_extension": ".py",
   "mimetype": "text/x-python",
   "name": "python",
   "nbconvert_exporter": "python",
   "pygments_lexer": "ipython3",
   "version": "3.8.3"
  }
 },
 "nbformat": 4,
 "nbformat_minor": 4
}
